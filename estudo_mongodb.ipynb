{
 "cells": [
  {
   "cell_type": "code",
   "execution_count": 12,
   "id": "dbe1763d-e35a-4cc5-af81-d2983b8c0dad",
   "metadata": {},
   "outputs": [
    {
     "name": "stdout",
     "output_type": "stream",
     "text": [
      "Requirement already satisfied: pymongo in /Users/astrostark/opt/anaconda3/envs/estudo_db_python/lib/python3.10/site-packages (4.6.1)\n",
      "Requirement already satisfied: dnspython<3.0.0,>=1.16.0 in /Users/astrostark/opt/anaconda3/envs/estudo_db_python/lib/python3.10/site-packages (from pymongo) (2.4.2)\n"
     ]
    }
   ],
   "source": [
    "!pip install pymongo"
   ]
  },
  {
   "cell_type": "code",
   "execution_count": 26,
   "id": "a4b9de87-0de8-45bb-b838-90e6e78b791c",
   "metadata": {},
   "outputs": [],
   "source": [
    "import pymongo \n",
    "from json import loads,dumps"
   ]
  },
  {
   "cell_type": "code",
   "execution_count": 21,
   "id": "c3420e42-981b-46ea-87b5-aca5d92d8a78",
   "metadata": {},
   "outputs": [],
   "source": [
    "# Detalhes da conexão\n",
    "host = HOST_LOCAL\n",
    "port = PORT_LOCAL"
   ]
  },
  {
   "cell_type": "code",
   "execution_count": 22,
   "id": "a36d4af1-10df-4cb5-81ac-9a3a17226fbe",
   "metadata": {},
   "outputs": [],
   "source": [
    "# Criação da conexão com o banco mongodb\n",
    "conector = pymongo.MongoClient(host,port)"
   ]
  },
  {
   "cell_type": "code",
   "execution_count": 23,
   "id": "a9d1bf9e-384d-406d-8037-24a5cfa6d516",
   "metadata": {},
   "outputs": [],
   "source": [
    "# Criação da referência ao banco \"estudo_mongodb\"\n",
    "database = conector[\"estudo_mongodb\"]"
   ]
  },
  {
   "cell_type": "code",
   "execution_count": null,
   "metadata": {},
   "outputs": [],
   "source": [
    "# Criação da referência para as collections\n",
    "pessoas = database[\"pessoas\"]\n",
    "categorias = database[\"categorias\"]\n",
    "produtos = database[\"produtos\"]\n",
    "vendas = database[\"vendas\"]"
   ]
  },
  {
   "cell_type": "code",
   "execution_count": 24,
   "id": "2c8c5991-b784-469d-b88d-8f0ee4188596",
   "metadata": {},
   "outputs": [],
   "source": [
    "# Lê os dados do arquivo json e converte para os tipos nativos do Python \n",
    "with open(\"dados_db.json\",\"r\") as file:\n",
    "    dados = loads(file.read())"
   ]
  },
  {
   "cell_type": "code",
   "execution_count": null,
   "id": "0edf5285-cf76-48e7-bfa5-3a3f3cfaea71",
   "metadata": {},
   "outputs": [],
   "source": [
    "# Insere os dados nas respectivas collections\n",
    "pessoas.insert_many(dados[\"pessoas\"])\n",
    "categorias.insert_many(dados[\"categorias\"])\n",
    "produtos.insert_many(dados[\"produtos\"])\n",
    "vendas.insert_many(dados[\"vendas\"])"
   ]
  },
  {
   "cell_type": "code",
   "execution_count": 31,
   "id": "7225846e-3cc9-4bde-9e5b-c5c73a047803",
   "metadata": {},
   "outputs": [],
   "source": [
    "# Cria backup das collections do banco no formato json com a conversão dos tipos de dados para string \n",
    "with open(\"bkp_mongodb_pessoas.json\",\"w\") as file:\n",
    "    file.write(dumps(list(pessoas.find({})), default = str))\n",
    "with open(\"bkp_mongodb_categorias.json\",\"w\") as file:\n",
    "    file.write(dumps(list(categorias.find({})), default = str))\n",
    "with open(\"bkp_mongodb_produtos.json\",\"w\") as file:\n",
    "    file.write(dumps(list(produtos.find({})), default = str))\n",
    "with open(\"bkp_mongodb_vendas.json\",\"w\") as file:\n",
    "    file.write(dumps(list(vendas.find({})), default = str))"
   ]
  }
 ],
 "metadata": {
  "kernelspec": {
   "display_name": "Python 3 (ipykernel)",
   "language": "python",
   "name": "python3"
  },
  "language_info": {
   "codemirror_mode": {
    "name": "ipython",
    "version": 3
   },
   "file_extension": ".py",
   "mimetype": "text/x-python",
   "name": "python",
   "nbconvert_exporter": "python",
   "pygments_lexer": "ipython3",
   "version": "3.10.13"
  }
 },
 "nbformat": 4,
 "nbformat_minor": 5
}
