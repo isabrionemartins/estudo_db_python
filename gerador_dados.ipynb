{
 "cells": [
  {
   "cell_type": "code",
   "execution_count": 1,
   "id": "d0fe5516-062a-47a2-86dc-9963747dae44",
   "metadata": {},
   "outputs": [
    {
     "name": "stdout",
     "output_type": "stream",
     "text": [
      "Collecting faker\n",
      "  Downloading Faker-20.1.0-py3-none-any.whl.metadata (15 kB)\n",
      "Requirement already satisfied: python-dateutil>=2.4 in /Users/astrostark/opt/anaconda3/envs/estudo_db_python/lib/python3.10/site-packages (from faker) (2.8.2)\n",
      "Requirement already satisfied: six>=1.5 in /Users/astrostark/opt/anaconda3/envs/estudo_db_python/lib/python3.10/site-packages (from python-dateutil>=2.4->faker) (1.16.0)\n",
      "Downloading Faker-20.1.0-py3-none-any.whl (1.7 MB)\n",
      "\u001b[2K   \u001b[90m━━━━━━━━━━━━━━━━━━━━━━━━━━━━━━━━━━━━━━━━\u001b[0m \u001b[32m1.7/1.7 MB\u001b[0m \u001b[31m21.4 MB/s\u001b[0m eta \u001b[36m0:00:00\u001b[0m00:01\u001b[0m0:01\u001b[0m\n",
      "\u001b[?25hInstalling collected packages: faker\n",
      "Successfully installed faker-20.1.0\n"
     ]
    }
   ],
   "source": [
    "!pip install faker"
   ]
  },
  {
   "cell_type": "code",
   "execution_count": 55,
   "id": "7e0b45d4-616e-435a-ba9e-e19b198d5f6e",
   "metadata": {},
   "outputs": [],
   "source": [
    "from faker import Faker\n",
    "from random import choice,randint\n",
    "from json import dumps"
   ]
  },
  {
   "cell_type": "code",
   "execution_count": 27,
   "id": "b61e8a42-1020-4722-bd13-430cc2e11a17",
   "metadata": {},
   "outputs": [],
   "source": [
    "# Cria uma instância do Faker para o português do Brasil\n",
    "fake = Faker('pt_BR')"
   ]
  },
  {
   "cell_type": "code",
   "execution_count": 51,
   "id": "0306be7c-6867-40e9-8ab9-012c8b21eb62",
   "metadata": {},
   "outputs": [],
   "source": [
    "# Lista para armazenar as pessoas fictícias\n",
    "pessoas = []"
   ]
  },
  {
   "cell_type": "code",
   "execution_count": 52,
   "id": "b6d4eff5-9a06-417c-8c20-3a4fe7a64c51",
   "metadata": {},
   "outputs": [],
   "source": [
    "#Lista de dicionários com os nome das categorias \n",
    "categorias = [{\"nome\": \"Bebidas\"},\n",
    "              {\"nome\": \"Comidas\"},\n",
    "              {\"nome\": \"Eletrônicos\"},\n",
    "              {\"nome\": \"Roupas\"},\n",
    "              {\"nome\": \"Joia\"}]"
   ]
  },
  {
   "cell_type": "code",
   "execution_count": 53,
   "id": "5a2a28bd-5f73-407f-90d0-6d968f570985",
   "metadata": {},
   "outputs": [],
   "source": [
    "#Lista de produtos e preços associados a uma categoria por meio do \"id_categoria\"\n",
    "produtos = [{\"id_categoria\":1,\"nome\":\"Água\",\"preco\":8.00},\n",
    "            {\"id_categoria\":1,\"nome\":\"Refrigerante\",\"preco\":15.00},\n",
    "            {\"id_categoria\":1,\"nome\":\"Limonada\",\"preco\":20.00},\n",
    "            {\"id_categoria\":1,\"nome\":\"Suco\",\"preco\":5.00},\n",
    "            {\"id_categoria\":1,\"nome\":\"Agua c/ gas\",\"preco\":8.00},\n",
    "            {\"id_categoria\":2,\"nome\":\"Pao\",\"preco\":7.00},\n",
    "            {\"id_categoria\":2,\"nome\":\"Feijao\",\"preco\":9.00},\n",
    "            {\"id_categoria\":2,\"nome\":\"Leite\",\"preco\":5.00},\n",
    "            {\"id_categoria\":2,\"nome\":\"Sal\",\"preco\":3.00},\n",
    "            {\"id_categoria\":2,\"nome\":\"Macarrao\",\"preco\":8.00},\n",
    "            {\"id_categoria\":3,\"nome\":\"Celular\",\"preco\":2000.00},\n",
    "            {\"id_categoria\":3,\"nome\":\"Caixa de som\",\"preco\":250.00},\n",
    "            {\"id_categoria\":3,\"nome\":\"Tv\",\"preco\":3500.00},\n",
    "            {\"id_categoria\":3,\"nome\":\"Tablet\",\"preco\":8.00},\n",
    "            {\"id_categoria\":3,\"nome\":\"Computador\",\"preco\":12000.00},\n",
    "            {\"id_categoria\":4,\"nome\":\"Camiseta\",\"preco\":40.00},\n",
    "            {\"id_categoria\":4,\"nome\":\"Saia\",\"preco\":28.00},\n",
    "            {\"id_categoria\":4,\"nome\":\"Vestido\",\"preco\":58.00},\n",
    "            {\"id_categoria\":4,\"nome\":\"Casaco\",\"preco\":169.00},\n",
    "            {\"id_categoria\":4,\"nome\":\"Meias\",\"preco\":35.00},\n",
    "            {\"id_categoria\":5,\"nome\":\"Colar\",\"preco\":120.00},\n",
    "            {\"id_categoria\":5,\"nome\":\"Brincos\",\"preco\":110.00},\n",
    "            {\"id_categoria\":5,\"nome\":\"Pulseira\",\"preco\":115.00},\n",
    "            {\"id_categoria\":5,\"nome\":\"Anel de Ouro\",\"preco\":190.00},\n",
    "            {\"id_categoria\":5,\"nome\":\"Anel de Prata\",\"preco\":145.00}]"
   ]
  },
  {
   "cell_type": "code",
   "execution_count": 54,
   "id": "c6a46a03-b2db-4d5f-941a-c9ca2c5abe56",
   "metadata": {},
   "outputs": [],
   "source": [
    "#Lista para armazenar as vendas\n",
    "vendas = []"
   ]
  },
  {
   "cell_type": "code",
   "execution_count": 56,
   "id": "72be626d-953a-43f0-b293-ebe9dcc5aeaf",
   "metadata": {},
   "outputs": [],
   "source": [
    "#Loop que que gera 1000 vendas fictícias contendo em um dicionário informações da pessoa que fez a compra,o produto e a quantidade.\n",
    "for i in range(1000):\n",
    "    vendas.append({\"id_pessoa\":pessoas.index(choice(pessoas))+1,\n",
    "                   \"id_produto\":produtos.index(choice(produtos))+1,\n",
    "                   \"quantidade\":randint(1,100)})"
   ]
  },
  {
   "cell_type": "code",
   "execution_count": null,
   "id": "fd735e0e-68fa-4299-9cca-2e286a4fbcd1",
   "metadata": {},
   "outputs": [],
   "source": [
    "#Converte a estrutura de dados (para o formato de string json) e salva em um aquivo json \n",
    "with open(\"dados_db.json\",\"w\") as file:\n",
    "    file.write(dumps({\"pessoas\": pessoas,\n",
    "                      \"categorias\": categorias,\n",
    "                      \"produtos\": produtos,\n",
    "                      \"vendas\": vendas}))"
   ]
  }
 ],
 "metadata": {
  "kernelspec": {
   "display_name": "Python 3 (ipykernel)",
   "language": "python",
   "name": "python3"
  },
  "language_info": {
   "codemirror_mode": {
    "name": "ipython",
    "version": 3
   },
   "file_extension": ".py",
   "mimetype": "text/x-python",
   "name": "python",
   "nbconvert_exporter": "python",
   "pygments_lexer": "ipython3",
   "version": "3.10.13"
  }
 },
 "nbformat": 4,
 "nbformat_minor": 5
}
