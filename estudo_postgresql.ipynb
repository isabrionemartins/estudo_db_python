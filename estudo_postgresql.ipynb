{
 "cells": [
  {
   "cell_type": "code",
   "execution_count": 6,
   "id": "6141739e-5528-4d4f-b971-0ea472a34d32",
   "metadata": {},
   "outputs": [
    {
     "name": "stdout",
     "output_type": "stream",
     "text": [
      "Requirement already satisfied: psycopg2-binary in /Users/astrostark/opt/anaconda3/envs/estudo_db_python/lib/python3.10/site-packages (2.9.9)\n",
      "Requirement already satisfied: SQLAlchemy in /Users/astrostark/opt/anaconda3/envs/estudo_db_python/lib/python3.10/site-packages (2.0.23)\n",
      "Requirement already satisfied: sqlalchemy-utils in /Users/astrostark/opt/anaconda3/envs/estudo_db_python/lib/python3.10/site-packages (0.41.1)\n",
      "Requirement already satisfied: typing-extensions>=4.2.0 in /Users/astrostark/opt/anaconda3/envs/estudo_db_python/lib/python3.10/site-packages (from SQLAlchemy) (4.8.0)\n",
      "Requirement already satisfied: greenlet!=0.4.17 in /Users/astrostark/opt/anaconda3/envs/estudo_db_python/lib/python3.10/site-packages (from SQLAlchemy) (3.0.1)\n"
     ]
    }
   ],
   "source": [
    "!pip install psycopg2-binary SQLAlchemy sqlalchemy-utils"
   ]
  },
  {
   "cell_type": "code",
   "execution_count": 46,
   "id": "fdc22be7-1766-4ea4-b252-cd780f84ed22",
   "metadata": {},
   "outputs": [],
   "source": [
    "from sqlalchemy import create_engine,text\n",
    "from sqlalchemy_utils import database_exists, create_database\n",
    "from json import loads\n",
    "from pandas import read_sql"
   ]
  },
  {
   "cell_type": "code",
   "execution_count": null,
   "metadata": {},
   "outputs": [],
   "source": [
    "# Função para conexão com o banco postgresql e para executar os comandos\n",
    "def executar_query_sql_sem_retorno(query):\n",
    "   with engine.connect() as conn:\n",
    "       conn.execute(text(query))\n",
    "       conn.commit()"
   ]
  },
  {
   "cell_type": "code",
   "execution_count": null,
   "metadata": {},
   "outputs": [],
   "source": [
    "# Função para organizar e preprocessar os dados para inserir no banco\n",
    "def preprocessar_dados_para_insert_sql(dados):\n",
    "    return {\n",
    "        \"colunas\": list(dados[0].keys()),\n",
    "        \"valores\": criar_values_insert_sql(list(map(lambda dado: list(dado.values()),dados)))\n",
    "    }"
   ]
  },
  {
   "cell_type": "code",
   "execution_count": null,
   "metadata": {},
   "outputs": [],
   "source": [
    "# Função para reestruturar os valores para o sql de insert \n",
    "def criar_values_insert_sql(valores):\n",
    "    sql = []\n",
    "    for linha in valores:\n",
    "        lista_str = \"\"\n",
    "        for coluna in linha:\n",
    "            if not lista_str:\n",
    "                lista_str += \"(\"\n",
    "            if isinstance(coluna,str):\n",
    "                lista_str += f\"'{coluna}',\"\n",
    "            else:\n",
    "                lista_str += f\"{coluna},\"\n",
    "        lista_str = lista_str[:-1] + \")\"\n",
    "        sql.append(lista_str)\n",
    "    return sql"
   ]
  },
  {
   "cell_type": "code",
   "execution_count": null,
   "metadata": {},
   "outputs": [],
   "source": [
    "# Função para inserir os dados na tabela do banco \n",
    "def inserir_dados(tabela,dados):\n",
    "    dados = preprocessar_dados_para_insert_sql(dados)\n",
    "    executar_query_sql_sem_retorno(f\"\"\"INSERT INTO {tabela} ({\", \".join(dados[\"colunas\"])}) VALUES {\", \".join(dados[\"valores\"])}; \"\"\")"
   ]
  },
  {
   "cell_type": "code",
   "execution_count": null,
   "metadata": {},
   "outputs": [],
   "source": [
    "# Função para executar uma consulta no banco de dados com retorno \n",
    "def executar_query_sql_com_retorno(query):\n",
    "    with engine.connect() as conn:\n",
    "        return read_sql(query,conn)"
   ]
  },
  {
   "cell_type": "code",
   "execution_count": 15,
   "id": "8c12c43b-2528-46bb-904c-39fd4f247c88",
   "metadata": {},
   "outputs": [],
   "source": [
    "# Detalhes da conexão\n",
    "host = HOST_LOCAL\n",
    "user = USER_LOCAL\n",
    "password = PASSWORD_LOCAL\n",
    "port = PORT_LOCAL\n",
    "database = \"estudo_db_postgre\"\n",
    "engine = create_engine(f\"postgresql://{user}:{password}@{host}/{database}\")"
   ]
  },
  {
   "cell_type": "code",
   "execution_count": 16,
   "id": "5ad196b8-98e9-4382-bf6c-0fec9e75c01d",
   "metadata": {},
   "outputs": [],
   "source": [
    "# Verifica se o banco de dados existe,caso não exista ele é criado\n",
    "if not database_exists(engine.url):\n",
    "    create_database(engine.url)"
   ]
  },
  {
   "cell_type": "code",
   "execution_count": 33,
   "id": "c2ca174b-ca42-4d2e-bb1e-b8deedb07572",
   "metadata": {},
   "outputs": [],
   "source": [
    "# Executa o comando de criação das tabelas se elas não existirem no banco de dados\n",
    "#   Tabela \"pessoas\"\n",
    "#       id : Chave primaria\n",
    "#       primeiro_nome : string obrigatória\n",
    "#       ultimo_nome : string obrigatória\n",
    "#       email : string obrigatória\n",
    "executar_query_sql_sem_retorno(\"\"\"CREATE TABLE IF NOT EXISTS pessoas (\n",
    "    id SERIAL PRIMARY KEY,\n",
    "    primeiro_nome VARCHAR(255) NOT NULL,\n",
    "    ultimo_nome VARCHAR(255) NOT NULL,\n",
    "    email VARCHAR(255) NOT NULL\n",
    ");\"\"\")"
   ]
  },
  {
   "cell_type": "code",
   "execution_count": null,
   "metadata": {},
   "outputs": [],
   "source": [
    "#   Tabela \"categorias\"\n",
    "#       id : Chave primaria\n",
    "#       nome: string obrigatória\n",
    "executar_query_sql_sem_retorno(\"\"\"CREATE TABLE IF NOT EXISTS categorias(\n",
    "    id SERIAL PRIMARY KEY,\n",
    "    nome VARCHAR(255) NOT NULL\n",
    ");\"\"\")"
   ]
  },
  {
   "cell_type": "code",
   "execution_count": null,
   "metadata": {},
   "outputs": [],
   "source": [
    "#   Tabela \"produtos\"\n",
    "#       id : Chave primaria\n",
    "#       id_categoria : chave estrangeira para tabela categorias\n",
    "#       nome : string obrigatória\n",
    "#       preco : float obrigatório\n",
    "executar_query_sql_sem_retorno(\"\"\"CREATE TABLE IF NOT EXISTS produtos(\n",
    "    id SERIAL PRIMARY KEY,\n",
    "    id_categoria INT NOT NULL,\n",
    "    nome VARCHAR(255) NOT NULL,\n",
    "    preco FLOAT NOT NULL,\n",
    "    FOREIGN KEY(id_categoria) REFERENCES categorias(id)\n",
    ");\"\"\")"
   ]
  },
  {
   "cell_type": "code",
   "execution_count": null,
   "metadata": {},
   "outputs": [],
   "source": [
    "#   Tabela \"vendas\"\n",
    "#       id : Chave primaria\n",
    "#       id_pessoa : chave estrangeira para tabela pessoas\n",
    "#       id_produto : chave estrangeira para tabela produtos\n",
    "#       quantidade : int obrigatória\n",
    "executar_query_sql_sem_retorno(\"\"\"CREATE TABLE IF NOT EXISTS vendas(\n",
    "    id SERIAL PRIMARY KEY,\n",
    "    id_pessoa INT NOT NULL,\n",
    "    id_produto INT NOT NULL,\n",
    "    quantidade INT NOT NULL,\n",
    "    FOREIGN KEY(id_pessoa) REFERENCES pessoas(id),\n",
    "    FOREIGN KEY(id_produto) REFERENCES produtos(id)\n",
    ");\"\"\")"
   ]
  },
  {
   "cell_type": "code",
   "execution_count": 37,
   "id": "0075232e-b468-471e-9d30-e331f7721a37",
   "metadata": {},
   "outputs": [],
   "source": [
    "# Lê os dados do arquivo json e converte para os tipos nativos do Python \n",
    "with open(\"dados_db.json\",\"r\") as file:\n",
    "    dados = loads(file.read())"
   ]
  },
  {
   "cell_type": "code",
   "execution_count": 38,
   "id": "60cb0e3f-6986-406d-b1af-7221b77a518b",
   "metadata": {},
   "outputs": [],
   "source": [
    "# Insere os dados nas respectivas tabelas\n",
    "inserir_dados(\"pessoas\",dados[\"pessoas\"])\n",
    "inserir_dados(\"categorias\",dados[\"categorias\"])\n",
    "inserir_dados(\"produtos\",dados[\"produtos\"])\n",
    "inserir_dados(\"vendas\",dados[\"vendas\"])"
   ]
  },
  {
   "cell_type": "code",
   "execution_count": 39,
   "id": "19230cbf-2075-4b55-ae47-5fe0f5105233",
   "metadata": {},
   "outputs": [],
   "source": [
    "# Cria backup das tabelas do banco no formato csv com separador \"|\"\n",
    "executar_query_sql_com_retorno(\"SELECT * FROM pessoas\").to_csv(\"bkp_postgres_pessoas.csv\", sep = \"|\", index = False)\n",
    "executar_query_sql_com_retorno(\"SELECT * FROM categorias\").to_csv(\"bkp_postgres_categorias.csv\", sep = \"|\", index = False)\n",
    "executar_query_sql_com_retorno(\"SELECT * FROM produtos\").to_csv(\"bkp_postgres_produtos.csv\", sep = \"|\", index = False)\n",
    "executar_query_sql_com_retorno(\"SELECT * FROM vendas\").to_csv(\"bkp_postgres_vendas.csv\", sep = \"|\", index = False)"
   ]
  },
  {
   "cell_type": "code",
   "execution_count": 40,
   "id": "518a3f5b-5edb-4b81-af39-6179c6b61cf5",
   "metadata": {},
   "outputs": [],
   "source": [
    "# Gera um relatório de vendas com as informações dos produtos, pessoas e total. Salva o resultado num aquivo de formato csv com separador \"|\"\n",
    "executar_query_sql_com_retorno(\"\"\"SELECT \n",
    "    vendas.id,\n",
    "    vendas.quantidade,\n",
    "    pessoas.primeiro_nome,\n",
    "    pessoas.ultimo_nome,\n",
    "    pessoas.email,\n",
    "    produtos.nome,\n",
    "    produtos.preco,\n",
    "    vendas.quantidade * produtos.preco as total\n",
    "FROM\n",
    "    vendas\n",
    "        LEFT JOIN\n",
    "    pessoas ON vendas.id_pessoa = pessoas.id\n",
    "        LEFT JOIN\n",
    "\tprodutos ON vendas.id_produto = produtos.id\n",
    "\"\"\").to_csv(\"relatorio_postgres_vendas.csv\", sep = \"|\", index = False)"
   ]
  },
  {
   "cell_type": "code",
   "execution_count": null,
   "metadata": {},
   "outputs": [],
   "source": []
  }
 ],
 "metadata": {
  "kernelspec": {
   "display_name": "Python 3 (ipykernel)",
   "language": "python",
   "name": "python3"
  },
  "language_info": {
   "codemirror_mode": {
    "name": "ipython",
    "version": 3
   },
   "file_extension": ".py",
   "mimetype": "text/x-python",
   "name": "python",
   "nbconvert_exporter": "python",
   "pygments_lexer": "ipython3",
   "version": "3.10.13"
  }
 },
 "nbformat": 4,
 "nbformat_minor": 5
}
