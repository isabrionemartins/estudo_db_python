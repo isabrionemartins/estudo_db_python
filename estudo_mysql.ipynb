{
 "cells": [
  {
   "cell_type": "code",
   "execution_count": 90,
   "id": "db235645-529b-4397-a193-79e00cdb6a64",
   "metadata": {},
   "outputs": [
    {
     "name": "stdout",
     "output_type": "stream",
     "text": [
      "Requirement already satisfied: SQLAlchemy in /Users/astrostark/opt/anaconda3/envs/estudo_db_python/lib/python3.10/site-packages (2.0.23)\n",
      "Requirement already satisfied: pymysql in /Users/astrostark/opt/anaconda3/envs/estudo_db_python/lib/python3.10/site-packages (1.1.0)\n",
      "Requirement already satisfied: sqlalchemy-utils in /Users/astrostark/opt/anaconda3/envs/estudo_db_python/lib/python3.10/site-packages (0.41.1)\n",
      "Collecting pandas\n",
      "  Downloading pandas-2.1.3-cp310-cp310-macosx_10_9_x86_64.whl.metadata (18 kB)\n",
      "Requirement already satisfied: typing-extensions>=4.2.0 in /Users/astrostark/opt/anaconda3/envs/estudo_db_python/lib/python3.10/site-packages (from SQLAlchemy) (4.8.0)\n",
      "Requirement already satisfied: greenlet!=0.4.17 in /Users/astrostark/opt/anaconda3/envs/estudo_db_python/lib/python3.10/site-packages (from SQLAlchemy) (3.0.1)\n",
      "Collecting numpy<2,>=1.22.4 (from pandas)\n",
      "  Downloading numpy-1.26.2-cp310-cp310-macosx_10_9_x86_64.whl.metadata (61 kB)\n",
      "\u001b[2K     \u001b[90m━━━━━━━━━━━━━━━━━━━━━━━━━━━━━━━━━━━━━━━━\u001b[0m \u001b[32m61.2/61.2 kB\u001b[0m \u001b[31m2.8 MB/s\u001b[0m eta \u001b[36m0:00:00\u001b[0m\n",
      "\u001b[?25hRequirement already satisfied: python-dateutil>=2.8.2 in /Users/astrostark/opt/anaconda3/envs/estudo_db_python/lib/python3.10/site-packages (from pandas) (2.8.2)\n",
      "Requirement already satisfied: pytz>=2020.1 in /Users/astrostark/opt/anaconda3/envs/estudo_db_python/lib/python3.10/site-packages (from pandas) (2023.3.post1)\n",
      "Collecting tzdata>=2022.1 (from pandas)\n",
      "  Downloading tzdata-2023.3-py2.py3-none-any.whl (341 kB)\n",
      "\u001b[2K     \u001b[90m━━━━━━━━━━━━━━━━━━━━━━━━━━━━━━━━━━━━━━\u001b[0m \u001b[32m341.8/341.8 kB\u001b[0m \u001b[31m10.5 MB/s\u001b[0m eta \u001b[36m0:00:00\u001b[0m\n",
      "\u001b[?25hRequirement already satisfied: six>=1.5 in /Users/astrostark/opt/anaconda3/envs/estudo_db_python/lib/python3.10/site-packages (from python-dateutil>=2.8.2->pandas) (1.16.0)\n",
      "Downloading pandas-2.1.3-cp310-cp310-macosx_10_9_x86_64.whl (11.7 MB)\n",
      "\u001b[2K   \u001b[90m━━━━━━━━━━━━━━━━━━━━━━━━━━━━━━━━━━━━━━━━\u001b[0m \u001b[32m11.7/11.7 MB\u001b[0m \u001b[31m50.9 MB/s\u001b[0m eta \u001b[36m0:00:00\u001b[0m00:01\u001b[0m0:01\u001b[0m\n",
      "\u001b[?25hDownloading numpy-1.26.2-cp310-cp310-macosx_10_9_x86_64.whl (20.6 MB)\n",
      "\u001b[2K   \u001b[90m━━━━━━━━━━━━━━━━━━━━━━━━━━━━━━━━━━━━━━━━\u001b[0m \u001b[32m20.6/20.6 MB\u001b[0m \u001b[31m48.8 MB/s\u001b[0m eta \u001b[36m0:00:00\u001b[0m00:01\u001b[0m00:01\u001b[0m\n",
      "\u001b[?25hInstalling collected packages: tzdata, numpy, pandas\n",
      "Successfully installed numpy-1.26.2 pandas-2.1.3 tzdata-2023.3\n"
     ]
    }
   ],
   "source": [
    "!pip install SQLAlchemy pymysql sqlalchemy-utils pandas"
   ]
  },
  {
   "cell_type": "code",
   "execution_count": 91,
   "id": "dd1ef943-24f4-495a-af29-5a6e3f93152d",
   "metadata": {},
   "outputs": [],
   "source": [
    "from sqlalchemy import create_engine,text\n",
    "from sqlalchemy_utils import database_exists, create_database\n",
    "from json import loads\n",
    "from pandas import read_sql"
   ]
  },
  {
   "cell_type": "code",
   "execution_count": null,
   "metadata": {},
   "outputs": [],
   "source": [
    "# Função para conexão com o banco mysql e para executar os comandos\n",
    "def executar_query_sql_sem_retorno(query):\n",
    "   with engine.connect() as conn:\n",
    "       conn.execute(text(query))\n",
    "       conn.commit()"
   ]
  },
  {
   "cell_type": "code",
   "execution_count": null,
   "metadata": {},
   "outputs": [],
   "source": [
    "# Função para organizar e preprocessar os dados para inserir no banco\n",
    "def preprocessar_dados_para_insert_sql(dados):\n",
    "    return {\n",
    "        \"colunas\": list(dados[0].keys()),\n",
    "        \"valores\": criar_values_insert_sql(list(map(lambda dado: list(dado.values()),dados)))\n",
    "    }"
   ]
  },
  {
   "cell_type": "code",
   "execution_count": null,
   "metadata": {},
   "outputs": [],
   "source": [
    "# Função para reestruturar os valores para o sql de insert \n",
    "def criar_values_insert_sql(valores):\n",
    "    sql = []\n",
    "    for linha in valores:\n",
    "        lista_str = \"\"\n",
    "        for coluna in linha:\n",
    "            if not lista_str:\n",
    "                lista_str += \"(\"\n",
    "            if isinstance(coluna,str):\n",
    "                lista_str += f\"'{coluna}',\"\n",
    "            else:\n",
    "                lista_str += f\"{coluna},\"\n",
    "        lista_str = lista_str[:-1] + \")\"\n",
    "        sql.append(lista_str)\n",
    "    return sql"
   ]
  },
  {
   "cell_type": "code",
   "execution_count": null,
   "metadata": {},
   "outputs": [],
   "source": [
    "# Função para inserir os dados na tabela do banco \n",
    "def inserir_dados(tabela,dados):\n",
    "    dados = preprocessar_dados_para_insert_sql(dados)\n",
    "    executar_query_sql_sem_retorno(f\"\"\"INSERT INTO {tabela} ({\", \".join(dados[\"colunas\"])}) VALUES {\", \".join(dados[\"valores\"])}; \"\"\")"
   ]
  },
  {
   "cell_type": "code",
   "execution_count": null,
   "metadata": {},
   "outputs": [],
   "source": [
    "# Função para executar uma consulta no banco de dados com retorno \n",
    "def executar_query_sql_com_retorno(query):\n",
    "    with engine.connect() as conn:\n",
    "        return read_sql(query,conn)"
   ]
  },
  {
   "cell_type": "code",
   "execution_count": 72,
   "id": "08c4295d-0e15-482c-990c-4128c89698d3",
   "metadata": {},
   "outputs": [],
   "source": [
    "# Detalhes da conexão\n",
    "host = HOST_LOCAL\n",
    "user = USER_LOCAL\n",
    "database = \"estudo_db_python\"\n",
    "engine = create_engine(f\"mysql+pymysql://{user}@{host}/{database}\")\n"
   ]
  },
  {
   "cell_type": "code",
   "execution_count": 74,
   "id": "fd02871a-e826-4626-a573-f3107aebf50a",
   "metadata": {},
   "outputs": [],
   "source": [
    "# Verifica se o banco de dados existe,caso não exista ele é criado\n",
    "if not database_exists(engine.url):\n",
    "    create_database(engine.url)"
   ]
  },
  {
   "cell_type": "code",
   "execution_count": 75,
   "id": "0fc2ffae-3ed4-4eab-b58e-1cf4f0cd0fc6",
   "metadata": {},
   "outputs": [],
   "source": [
    "# Executa o comando de criação das tabelas se elas não existirem no banco de dados\n",
    "#   Tabela \"pessoas\"\n",
    "#       id : Chave primaria\n",
    "#       primeiro_nome : string obrigatória\n",
    "#       ultimo_nome : string obrigatória\n",
    "#       email : string obrigatória\n",
    "executar_query_sql_sem_retorno(\"\"\"CREATE TABLE IF NOT EXISTS pessoas(\n",
    "    id INT AUTO_INCREMENT NOT NULL,\n",
    "    primeiro_nome VARCHAR(255) NOT NULL,\n",
    "    ultimo_nome VARCHAR(255) NOT NULL,\n",
    "    email VARCHAR(255) NOT NULL,\n",
    "    PRIMARY KEY(id)\n",
    ");\"\"\")"
   ]
  },
  {
   "cell_type": "code",
   "execution_count": null,
   "metadata": {},
   "outputs": [],
   "source": [
    "#   Tabela \"categorias\"\n",
    "#       id : Chave primaria\n",
    "#       nome: string obrigatória\n",
    "executar_query_sql_sem_retorno(\"\"\"CREATE TABLE IF NOT EXISTS categorias(\n",
    "    id INT AUTO_INCREMENT NOT NULL,\n",
    "    nome VARCHAR(255) NOT NULL,\n",
    "    PRIMARY KEY(id)\n",
    ");\"\"\")"
   ]
  },
  {
   "cell_type": "code",
   "execution_count": null,
   "metadata": {},
   "outputs": [],
   "source": [
    "#   Tabela \"produtos\"\n",
    "#       id : Chave primaria\n",
    "#       id_categoria : chave estrangeira para tabela categorias\n",
    "#       nome : string obrigatória\n",
    "#       preco : float obrigatório\n",
    "executar_query_sql_sem_retorno(\"\"\"CREATE TABLE IF NOT EXISTS produtos(\n",
    "    id INT AUTO_INCREMENT NOT NULL,\n",
    "    id_categoria INT NOT NULL,\n",
    "    nome VARCHAR(255) NOT NULL,\n",
    "    preco FLOAT NOT NULL,\n",
    "    PRIMARY KEY(id),\n",
    "    FOREIGN KEY(id_categoria) REFERENCES categorias(id)\n",
    ");\"\"\")"
   ]
  },
  {
   "cell_type": "code",
   "execution_count": null,
   "metadata": {},
   "outputs": [],
   "source": [
    "#   Tabela \"vendas\"\n",
    "#       id : Chave primaria\n",
    "#       id_pessoa : chave estrangeira para tabela pessoas\n",
    "#       id_produto : chave estrangeira para tabela produtos\n",
    "#       quantidade : int obrigatória\n",
    "executar_query_sql_sem_retorno(\"\"\"CREATE TABLE IF NOT EXISTS vendas(\n",
    "    id INT AUTO_INCREMENT NOT NULL,\n",
    "    id_pessoa INT NOT NULL,\n",
    "    id_produto INT NOT NULL,\n",
    "    quantidade INT NOT NULL, \n",
    "    PRIMARY KEY(id),\n",
    "    FOREIGN KEY(id_pessoa) REFERENCES pessoas(id),\n",
    "    FOREIGN KEY(id_produto) REFERENCES produtos(id)\n",
    ");\"\"\")"
   ]
  },
  {
   "cell_type": "code",
   "execution_count": 76,
   "id": "5c664c89-3c64-447a-95e1-fe01fff25e35",
   "metadata": {},
   "outputs": [],
   "source": [
    "# Lê os dados do arquivo json e converte para os tipos nativos do Python \n",
    "with open(\"dados_db.json\",\"r\") as file:\n",
    "    dados = loads(file.read())"
   ]
  },
  {
   "cell_type": "code",
   "execution_count": 78,
   "id": "7d86a526-554e-4dee-98f5-0b15bf16687c",
   "metadata": {},
   "outputs": [],
   "source": [
    "# Insere os dados nas respectivas tabelas\n",
    "inserir_dados(\"pessoas\",dados[\"pessoas\"])\n",
    "inserir_dados(\"categorias\",dados[\"categorias\"])\n",
    "inserir_dados(\"produtos\",dados[\"produtos\"])\n",
    "inserir_dados(\"vendas\",dados[\"vendas\"])"
   ]
  },
  {
   "cell_type": "code",
   "execution_count": 79,
   "id": "b0a918ca-039c-4fbf-8209-4f63b214ae3a",
   "metadata": {},
   "outputs": [],
   "source": [
    "# Cria backup das tabelas do banco no formato csv com separador \"|\"\n",
    "executar_query_sql_com_retorno(\"SELECT * FROM pessoas\").to_csv(\"bkp_mysql_pessoas.csv\", sep = \"|\", index = False)\n",
    "executar_query_sql_com_retorno(\"SELECT * FROM categorias\").to_csv(\"bkp_mysql_categorias.csv\", sep = \"|\", index = False)\n",
    "executar_query_sql_com_retorno(\"SELECT * FROM produtos\").to_csv(\"bkp_mysql_produtos.csv\", sep = \"|\", index = False)\n",
    "executar_query_sql_com_retorno(\"SELECT * FROM vendas\").to_csv(\"bkp_mysql_vendas.csv\", sep = \"|\", index = False)"
   ]
  },
  {
   "cell_type": "code",
   "execution_count": 80,
   "id": "aa97cd8f-a464-4f48-bab1-fc15bec4ea07",
   "metadata": {},
   "outputs": [],
   "source": [
    "# Gera um relatório de vendas com as informações dos produtos, pessoas e total. Salva o resultado num aquivo de formato csv com separador \"|\"\n",
    "executar_query_sql_com_retorno(\"\"\"SELECT \n",
    "    vendas.id,\n",
    "    vendas.quantidade,\n",
    "    pessoas.primeiro_nome,\n",
    "    pessoas.ultimo_nome,\n",
    "    pessoas.email,\n",
    "    produtos.nome,\n",
    "    produtos.preco,\n",
    "    vendas.quantidade * produtos.preco as total\n",
    "FROM\n",
    "    vendas\n",
    "        LEFT JOIN\n",
    "    pessoas ON vendas.id_pessoa = pessoas.id\n",
    "        LEFT JOIN\n",
    "\tprodutos ON vendas.id_produto = produtos.id\n",
    "\"\"\").to_csv(\"relatorio_mysql_vendas.csv\", sep = \"|\", index = False)"
   ]
  }
 ],
 "metadata": {
  "kernelspec": {
   "display_name": "Python 3 (ipykernel)",
   "language": "python",
   "name": "python3"
  },
  "language_info": {
   "codemirror_mode": {
    "name": "ipython",
    "version": 3
   },
   "file_extension": ".py",
   "mimetype": "text/x-python",
   "name": "python",
   "nbconvert_exporter": "python",
   "pygments_lexer": "ipython3",
   "version": "3.10.13"
  }
 },
 "nbformat": 4,
 "nbformat_minor": 5
}
